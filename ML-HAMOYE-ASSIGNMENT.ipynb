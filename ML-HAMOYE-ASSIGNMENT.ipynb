{
 "cells": [
  {
   "attachments": {},
   "cell_type": "markdown",
   "metadata": {},
   "source": [
    "INTODUCTION TO MACHINE LEARNING ASSIGNMENT CODE\n",
    "\n",
    "HUBERT AGURIWINE AKANSON\n",
    "\n",
    "ID: 17975d5fc001f000"
   ]
  },
  {
   "cell_type": "code",
   "execution_count": 1,
   "metadata": {},
   "outputs": [],
   "source": [
    "import pandas as pd\n",
    "import numpy as np\n"
   ]
  },
  {
   "cell_type": "code",
   "execution_count": 7,
   "metadata": {},
   "outputs": [],
   "source": [
    "df = pd.read_csv('FoodBalanceSheets_E_Africa_NOFLAG.csv', encoding ='latin-1')"
   ]
  },
  {
   "cell_type": "code",
   "execution_count": 8,
   "metadata": {},
   "outputs": [
    {
     "name": "stdout",
     "output_type": "stream",
     "text": [
      "       Area Code      Area  Item Code           Item  Element Code  \\\n",
      "0              4   Algeria       2501     Population           511   \n",
      "1              4   Algeria       2501     Population          5301   \n",
      "2              4   Algeria       2901    Grand Total           664   \n",
      "3              4   Algeria       2901    Grand Total           674   \n",
      "4              4   Algeria       2901    Grand Total           684   \n",
      "...          ...       ...        ...            ...           ...   \n",
      "60938        181  Zimbabwe       2899  Miscellaneous          5142   \n",
      "60939        181  Zimbabwe       2899  Miscellaneous           645   \n",
      "60940        181  Zimbabwe       2899  Miscellaneous           664   \n",
      "60941        181  Zimbabwe       2899  Miscellaneous           674   \n",
      "60942        181  Zimbabwe       2899  Miscellaneous           684   \n",
      "\n",
      "                                      Element             Unit     Y2014  \\\n",
      "0               Total Population - Both sexes     1000 persons  38924.00   \n",
      "1                    Domestic supply quantity      1000 tonnes      0.00   \n",
      "2               Food supply (kcal/capita/day)  kcal/capita/day   3377.00   \n",
      "3      Protein supply quantity (g/capita/day)     g/capita/day     94.90   \n",
      "4          Fat supply quantity (g/capita/day)     g/capita/day     80.06   \n",
      "...                                       ...              ...       ...   \n",
      "60938                                    Food      1000 tonnes     42.00   \n",
      "60939     Food supply quantity (kg/capita/yr)               kg      3.06   \n",
      "60940           Food supply (kcal/capita/day)  kcal/capita/day      3.00   \n",
      "60941  Protein supply quantity (g/capita/day)     g/capita/day      0.10   \n",
      "60942      Fat supply quantity (g/capita/day)     g/capita/day      0.04   \n",
      "\n",
      "          Y2015     Y2016     Y2017     Y2018  \n",
      "0      39728.00  40551.00  41389.00  42228.00  \n",
      "1          0.00      0.00      0.00      0.00  \n",
      "2       3379.00   3372.00   3341.00   3322.00  \n",
      "3         94.35     94.72     92.82     91.83  \n",
      "4         79.36     77.40     80.19     77.28  \n",
      "...         ...       ...       ...       ...  \n",
      "60938     46.00     33.00     19.00     16.00  \n",
      "60939      3.33      2.35      1.33      1.08  \n",
      "60940      4.00      3.00      1.00      1.00  \n",
      "60941      0.11      0.08      0.04      0.04  \n",
      "60942      0.05      0.03      0.02      0.01  \n",
      "\n",
      "[60943 rows x 12 columns]\n"
     ]
    }
   ],
   "source": [
    "print(df)"
   ]
  },
  {
   "cell_type": "code",
   "execution_count": 10,
   "metadata": {},
   "outputs": [
    {
     "data": {
      "text/plain": [
       "(60943, 12)"
      ]
     },
     "execution_count": 10,
     "metadata": {},
     "output_type": "execute_result"
    }
   ],
   "source": [
    "df.shape"
   ]
  },
  {
   "attachments": {},
   "cell_type": "markdown",
   "metadata": {},
   "source": [
    "\n",
    "Perform a groupby operation on ‘Element’.  What year has the highest sum of Stock Variation?"
   ]
  },
  {
   "cell_type": "code",
   "execution_count": 13,
   "metadata": {},
   "outputs": [
    {
     "name": "stdout",
     "output_type": "stream",
     "text": [
      "       Area Code      Area  Item Code                      Item  Element Code  \\\n",
      "13             4   Algeria       2905  Cereals - Excluding Beer          5072   \n",
      "29             4   Algeria       2511        Wheat and products          5072   \n",
      "45             4   Algeria       2805         Rice and products          5072   \n",
      "60             4   Algeria       2513       Barley and products          5072   \n",
      "75             4   Algeria       2514        Maize and products          5072   \n",
      "...          ...       ...        ...                       ...           ...   \n",
      "60842        181  Zimbabwe       2763              Pelagic Fish          5072   \n",
      "60853        181  Zimbabwe       2764        Marine Fish, Other          5072   \n",
      "60914        181  Zimbabwe       2928             Miscellaneous          5072   \n",
      "60924        181  Zimbabwe       2680               Infant food          5072   \n",
      "60934        181  Zimbabwe       2899             Miscellaneous          5072   \n",
      "\n",
      "               Element         Unit  Y2014   Y2015  Y2016  Y2017   Y2018  \n",
      "13     Stock Variation  1000 tonnes  684.0  1663.0  905.0  705.0  2226.0  \n",
      "29     Stock Variation  1000 tonnes  487.0  1401.0  731.0  546.0  1927.0  \n",
      "45     Stock Variation  1000 tonnes    8.0    -2.0   -4.0   17.0    37.0  \n",
      "60     Stock Variation  1000 tonnes   42.0    82.0   55.0   16.0   134.0  \n",
      "75     Stock Variation  1000 tonnes  146.0   177.0  122.0  127.0   124.0  \n",
      "...                ...          ...    ...     ...    ...    ...     ...  \n",
      "60842  Stock Variation  1000 tonnes    0.0     0.0    0.0    0.0     0.0  \n",
      "60853  Stock Variation  1000 tonnes    0.0     0.0    0.0    0.0     0.0  \n",
      "60914  Stock Variation  1000 tonnes    0.0     0.0    0.0   -4.0     0.0  \n",
      "60924  Stock Variation  1000 tonnes    0.0     0.0    0.0    0.0     0.0  \n",
      "60934  Stock Variation  1000 tonnes    0.0     0.0    0.0   -4.0     0.0  \n",
      "\n",
      "[4232 rows x 12 columns]\n"
     ]
    }
   ],
   "source": [
    "gp= df.groupby('Element')\n",
    "\n",
    "sv= gp.get_group('Stock Variation')\n",
    "\n",
    "print(sv)"
   ]
  },
  {
   "cell_type": "code",
   "execution_count": 20,
   "metadata": {},
   "outputs": [
    {
     "name": "stdout",
     "output_type": "stream",
     "text": [
      "                    Y2014     Y2015     Y2016     Y2017     Y2018\n",
      "Element                                                          \n",
      "Stock Variation  58749.83  34910.99  33140.12  54316.91  20577.91\n"
     ]
    }
   ],
   "source": [
    "tt = sv.groupby(['Element'])[['Y2014','Y2015','Y2016','Y2017','Y2018']].sum()\n",
    "\n",
    "print(tt)\n"
   ]
  },
  {
   "attachments": {},
   "cell_type": "markdown",
   "metadata": {},
   "source": [
    "What is the total number and percentage of missing data in 2014 to 3 decimal places?"
   ]
  },
  {
   "cell_type": "code",
   "execution_count": 32,
   "metadata": {},
   "outputs": [
    {
     "data": {
      "text/plain": [
       "Area Code          0\n",
       "Area               0\n",
       "Item Code          0\n",
       "Item               0\n",
       "Element Code       0\n",
       "Element            0\n",
       "Unit               0\n",
       "Y2014           1589\n",
       "Y2015           1548\n",
       "Y2016           1535\n",
       "Y2017           1506\n",
       "Y2018           1436\n",
       "dtype: int64"
      ]
     },
     "execution_count": 32,
     "metadata": {},
     "output_type": "execute_result"
    }
   ],
   "source": [
    "df.isnull().sum()\n",
    "\n"
   ]
  },
  {
   "cell_type": "code",
   "execution_count": 51,
   "metadata": {},
   "outputs": [
    {
     "data": {
      "text/plain": [
       "Area Code       0.000000\n",
       "Area            0.000000\n",
       "Item Code       0.000000\n",
       "Item            0.000000\n",
       "Element Code    0.000000\n",
       "Element         0.000000\n",
       "Unit            0.000000\n",
       "Y2014           2.607354\n",
       "Y2015           2.540078\n",
       "Y2016           2.518747\n",
       "Y2017           2.471162\n",
       "Y2018           2.356300\n",
       "dtype: float64"
      ]
     },
     "execution_count": 51,
     "metadata": {},
     "output_type": "execute_result"
    }
   ],
   "source": [
    "df.isnull().sum()/(len(df)) * 100"
   ]
  },
  {
   "attachments": {},
   "cell_type": "markdown",
   "metadata": {},
   "source": [
    "Select columns ‘Y2017’ and ‘Area’, Perform a groupby operation on ‘Area’.  Which of these Areas had the highest sum in 2017?"
   ]
  },
  {
   "cell_type": "code",
   "execution_count": 55,
   "metadata": {},
   "outputs": [
    {
     "name": "stdout",
     "output_type": "stream",
     "text": [
      "Area\n",
      "Algeria                         325644.27\n",
      "Angola                          229159.57\n",
      "Benin                           124771.22\n",
      "Botswana                         22101.30\n",
      "Burkina Faso                    101855.07\n",
      "Cabo Verde                       14650.74\n",
      "Cameroon                        232030.43\n",
      "Central African Republic         29937.00\n",
      "Chad                             71594.68\n",
      "Comoros                             59.84\n",
      "Congo                            41181.68\n",
      "Côte d'Ivoire                   224599.01\n",
      "Djibouti                         22729.91\n",
      "Egypt                           866379.92\n",
      "Eswatini                         54343.33\n",
      "Ethiopia                        448683.76\n",
      "Ethiopia PDR                         0.00\n",
      "Gabon                            27979.64\n",
      "Gambia                           23154.18\n",
      "Ghana                           337599.06\n",
      "Guinea                           98138.87\n",
      "Guinea-Bissau                    19102.77\n",
      "Kenya                           264660.66\n",
      "Lesotho                          21267.96\n",
      "Liberia                          29342.20\n",
      "Madagascar                      131197.73\n",
      "Malawi                          181098.71\n",
      "Mali                            149928.33\n",
      "Mauritania                      156665.46\n",
      "Mauritius                        51114.83\n",
      "Morocco                         388495.36\n",
      "Mozambique                      161407.98\n",
      "Namibia                          29874.89\n",
      "Niger                           126707.58\n",
      "Nigeria                        1483268.23\n",
      "Rwanda                           73663.69\n",
      "Sao Tome and Principe            12662.63\n",
      "Senegal                          95681.15\n",
      "Seychelles                         442.34\n",
      "Sierra Leone                     55311.33\n",
      "South Africa                    517590.54\n",
      "Sudan                           239931.92\n",
      "Sudan (former)                       0.00\n",
      "Togo                             49841.88\n",
      "Tunisia                         124167.20\n",
      "Uganda                          213950.38\n",
      "United Republic of Tanzania     322616.85\n",
      "Zambia                          103223.77\n",
      "Zimbabwe                         75919.34\n",
      "Name: Y2017, dtype: float64\n"
     ]
    }
   ],
   "source": [
    "ab = df.groupby('Area')['Y2017'].sum()\n",
    "\n",
    "print(ab)"
   ]
  },
  {
   "cell_type": "code",
   "execution_count": 57,
   "metadata": {},
   "outputs": [
    {
     "data": {
      "text/plain": [
       "count    4.900000e+01\n",
       "mean     1.709332e+05\n",
       "std      2.516059e+05\n",
       "min      0.000000e+00\n",
       "25%      2.934220e+04\n",
       "50%      9.813887e+04\n",
       "75%      2.245990e+05\n",
       "max      1.483268e+06\n",
       "Name: Y2017, dtype: float64"
      ]
     },
     "execution_count": 57,
     "metadata": {},
     "output_type": "execute_result"
    }
   ],
   "source": [
    "ab.describe()"
   ]
  },
  {
   "attachments": {},
   "cell_type": "markdown",
   "metadata": {},
   "source": [
    "\n",
    "What is the total Protein supply quantity in Madagascar in 2015?"
   ]
  },
  {
   "cell_type": "code",
   "execution_count": 59,
   "metadata": {},
   "outputs": [
    {
     "name": "stdout",
     "output_type": "stream",
     "text": [
      "       Area Code      Area  Item Code                      Item  Element Code  \\\n",
      "3              4   Algeria       2901               Grand Total           674   \n",
      "6              4   Algeria       2903          Vegetal Products           674   \n",
      "9              4   Algeria       2941           Animal Products           674   \n",
      "25             4   Algeria       2905  Cereals - Excluding Beer           674   \n",
      "41             4   Algeria       2511        Wheat and products           674   \n",
      "...          ...       ...        ...                       ...           ...   \n",
      "60903        181  Zimbabwe       2769   Aquatic Animals, Others           674   \n",
      "60911        181  Zimbabwe       2775            Aquatic Plants           674   \n",
      "60921        181  Zimbabwe       2928             Miscellaneous           674   \n",
      "60931        181  Zimbabwe       2680               Infant food           674   \n",
      "60941        181  Zimbabwe       2899             Miscellaneous           674   \n",
      "\n",
      "                                      Element          Unit  Y2014  Y2015  \\\n",
      "3      Protein supply quantity (g/capita/day)  g/capita/day  94.90  94.35   \n",
      "6      Protein supply quantity (g/capita/day)  g/capita/day  67.14  67.38   \n",
      "9      Protein supply quantity (g/capita/day)  g/capita/day  27.76  26.97   \n",
      "25     Protein supply quantity (g/capita/day)  g/capita/day  49.43  49.54   \n",
      "41     Protein supply quantity (g/capita/day)  g/capita/day  43.20  43.33   \n",
      "...                                       ...           ...    ...    ...   \n",
      "60903  Protein supply quantity (g/capita/day)  g/capita/day   0.00   0.00   \n",
      "60911  Protein supply quantity (g/capita/day)  g/capita/day   0.00   0.00   \n",
      "60921  Protein supply quantity (g/capita/day)  g/capita/day   0.10   0.11   \n",
      "60931  Protein supply quantity (g/capita/day)  g/capita/day   0.00   0.00   \n",
      "60941  Protein supply quantity (g/capita/day)  g/capita/day   0.10   0.11   \n",
      "\n",
      "       Y2016  Y2017  Y2018  \n",
      "3      94.72  92.82  91.83  \n",
      "6      67.37  66.11  67.10  \n",
      "9      27.35  26.71  24.73  \n",
      "25     50.01  48.86  49.36  \n",
      "41     43.85  43.18  42.85  \n",
      "...      ...    ...    ...  \n",
      "60903   0.00   0.00   0.00  \n",
      "60911   0.00   0.00   0.00  \n",
      "60921   0.08   0.05   0.04  \n",
      "60931   0.00   0.00   0.00  \n",
      "60941   0.08   0.04   0.04  \n",
      "\n",
      "[5023 rows x 12 columns]\n"
     ]
    }
   ],
   "source": [
    "pp =  gp.get_group('Protein supply quantity (g/capita/day)')\n",
    "\n",
    "print(pp)\n"
   ]
  },
  {
   "cell_type": "code",
   "execution_count": 67,
   "metadata": {},
   "outputs": [
    {
     "name": "stdout",
     "output_type": "stream",
     "text": [
      "Element\n",
      "Protein supply quantity (g/capita/day)    173.05\n",
      "Name: Y2015, dtype: float64\n"
     ]
    }
   ],
   "source": [
    "vv = pp.groupby(\"Area\")\n",
    "\n",
    "vp= vv.get_group('Madagascar')\n",
    "\n",
    "bb = vp.groupby([\"Element\"])['Y2015'].sum()\n",
    "\n",
    "print(bb)"
   ]
  },
  {
   "attachments": {},
   "cell_type": "markdown",
   "metadata": {},
   "source": [
    "\n",
    "Answer the following questions based on the African food production dataset provided by the FAO website already provided\n",
    "\n",
    "What is the total sum of Wine produced in 2015 and 2018 respectively?"
   ]
  },
  {
   "cell_type": "code",
   "execution_count": 75,
   "metadata": {},
   "outputs": [
    {
     "name": "stdout",
     "output_type": "stream",
     "text": [
      "        Y2015    Y2018\n",
      "Item                  \n",
      "Wine  4251.81  4039.32\n"
     ]
    }
   ],
   "source": [
    "ff = df.groupby('Item')\n",
    "\n",
    "f = ff.get_group('Wine')\n",
    "\n",
    "t=f.groupby(['Item'])[['Y2015','Y2018']].sum()\n",
    "\n",
    "print(t)"
   ]
  },
  {
   "attachments": {},
   "cell_type": "markdown",
   "metadata": {},
   "source": [
    "What is the mean and standard deviation across the whole dataset for the year 2017 to 2 decimal places?"
   ]
  },
  {
   "cell_type": "code",
   "execution_count": 92,
   "metadata": {},
   "outputs": [
    {
     "name": "stdout",
     "output_type": "stream",
     "text": [
      "count         49\n",
      "mean      170933\n",
      "std       251605\n",
      "min            0\n",
      "25%        29342\n",
      "50%        98138\n",
      "75%       224599\n",
      "max      1483268\n",
      "Name: Y2017, dtype: int64\n"
     ]
    }
   ],
   "source": [
    "p = df.groupby('Area')['Y2017']\n",
    "\n",
    "\n",
    "print(p.describe().astype(int))\n"
   ]
  },
  {
   "attachments": {},
   "cell_type": "markdown",
   "metadata": {},
   "source": [
    "Select columns ‘Y2017’ and ‘Area’, Perform a groupby operation on ‘Area’.  Which of these Areas had the 7th lowest sum in 2017?"
   ]
  },
  {
   "cell_type": "code",
   "execution_count": 124,
   "metadata": {},
   "outputs": [
    {
     "name": "stdout",
     "output_type": "stream",
     "text": [
      "                              count         mean          std     min  25%  \\\n",
      "Area                                                                         \n",
      "Algeria                      1279.0   254.608499  1547.394129   -81.0  0.0   \n",
      "Angola                       1407.0   162.871052  1095.097216  -250.0  0.0   \n",
      "Benin                        1253.0    99.577989   551.559347  -125.0  0.0   \n",
      "Botswana                     1368.0    16.155921   112.238405   -38.0  0.0   \n",
      "Burkina Faso                 1383.0    73.647918   602.015735  -281.0  0.0   \n",
      "Cabo Verde                   1193.0    12.280587   106.522420    -7.0  0.0   \n",
      "Cameroon                     1441.0   161.020423   891.706561  -147.0  0.0   \n",
      "Central African Republic     1262.0    23.721870   167.023884    -1.0  0.0   \n",
      "Chad                         1281.0    55.889680   462.112318   -37.0  0.0   \n",
      "Comoros                        45.0     1.329778     3.578664     0.0  0.0   \n",
      "Congo                        1395.0    29.520918   194.918056    -4.0  0.0   \n",
      "Côte d'Ivoire                1454.0   154.469746   966.292926  -244.0  0.0   \n",
      "Djibouti                     1061.0    21.423101   140.152273    -2.0  0.0   \n",
      "Egypt                        1458.0   594.224911  3560.771316 -1582.0  0.0   \n",
      "Eswatini                     1251.0    43.439912   393.094731  -100.0  0.0   \n",
      "Ethiopia                     1428.0   314.204314  3122.142176  -792.0  0.0   \n",
      "Ethiopia PDR                   39.0     0.000000     0.000000     0.0  0.0   \n",
      "Gabon                        1206.0    23.200365   131.547012   -37.0  0.0   \n",
      "Gambia                       1116.0    20.747473   148.609070    -2.0  0.0   \n",
      "Ghana                        1333.0   253.262611  1714.281860  -121.0  0.0   \n",
      "Guinea                       1383.0    70.960860   440.503711  -108.0  0.0   \n",
      "Guinea-Bissau                1076.0    17.753504   121.893742    -3.0  0.0   \n",
      "Kenya                        1548.0   170.969419  1408.584749  -186.0  0.0   \n",
      "Lesotho                      1110.0    19.160324   138.706288    -4.0  0.0   \n",
      "Liberia                      1135.0    25.852159   182.196869   -19.0  0.0   \n",
      "Madagascar                   1425.0    92.068582   788.970175  -324.0  0.0   \n",
      "Malawi                       1411.0   128.347775   771.028931   -50.0  0.0   \n",
      "Mali                         1243.0   120.618126   713.576258  -600.0  0.0   \n",
      "Mauritania                   1108.0   141.394819  2017.228641    -1.0  0.0   \n",
      "Mauritius                    1340.0    38.145396   287.587514   -25.0  0.0   \n",
      "Morocco                      1369.0   283.780394  1904.383394  -229.0  0.0   \n",
      "Mozambique                   1406.0   114.799417   957.728213 -1200.0  0.0   \n",
      "Namibia                      1269.0    23.542072   132.524660   -35.0  0.0   \n",
      "Niger                        1365.0    92.826066   708.889521  -682.0  0.0   \n",
      "Nigeria                      1457.0  1018.028984  7642.098415  -694.0  0.0   \n",
      "Rwanda                       1397.0    52.729914   397.987230  -631.0  0.0   \n",
      "Sao Tome and Principe        1122.0    11.285766   105.952584     0.0  0.0   \n",
      "Senegal                      1452.0    65.896109   480.576621   -68.0  0.0   \n",
      "Seychelles                     68.0     6.505000    30.566295     0.0  0.0   \n",
      "Sierra Leone                 1191.0    46.441083   304.560553  -180.0  0.0   \n",
      "South Africa                 1395.0   371.032645  2194.696940  -144.0  0.0   \n",
      "Sudan                        1279.0   187.593370  1328.996288  -819.0  0.0   \n",
      "Sudan (former)                 53.0     0.000000     0.000000     0.0  0.0   \n",
      "Togo                         1234.0    40.390502   276.042965   -32.0  0.0   \n",
      "Tunisia                      1314.0    94.495586   480.281423  -186.0  0.0   \n",
      "Uganda                       1435.0   149.094341  1203.591571  -180.0  0.0   \n",
      "United Republic of Tanzania  1409.0   228.968666  1652.615666  -865.0  0.0   \n",
      "Zambia                       1425.0    72.437733   571.180971   -42.0  0.0   \n",
      "Zimbabwe                     1365.0    55.618564   464.036613  -521.0  0.0   \n",
      "\n",
      "                               50%      75%        max  \n",
      "Area                                                    \n",
      "Algeria                      1.000  28.0000   41389.00  \n",
      "Angola                       0.040  14.0000   29817.00  \n",
      "Benin                        0.860  13.0000   11175.00  \n",
      "Botswana                     0.000   2.1600    2341.00  \n",
      "Burkina Faso                 0.000   8.0000   19193.00  \n",
      "Cabo Verde                   0.010   3.0000    2530.00  \n",
      "Cameroon                     0.370  21.0000   24566.00  \n",
      "Central African Republic     0.000   4.6800    4596.00  \n",
      "Chad                         0.000   6.0000   15017.00  \n",
      "Comoros                      0.020   0.8000      16.65  \n",
      "Congo                        0.000   3.0000    5111.00  \n",
      "Côte d'Ivoire                0.330  15.0000   24437.00  \n",
      "Djibouti                     0.020   2.1700    2664.00  \n",
      "Egypt                        1.225  47.0000   96443.00  \n",
      "Eswatini                     0.070   3.4750    5553.00  \n",
      "Ethiopia                     0.130  18.1075  106400.00  \n",
      "Ethiopia PDR                 0.000   0.0000       0.00  \n",
      "Gabon                        0.010   5.0000    2640.00  \n",
      "Gambia                       0.000   3.0000    2544.00  \n",
      "Ghana                        1.000  29.0000   29121.00  \n",
      "Guinea                       0.000   8.0000   12068.00  \n",
      "Guinea-Bissau                0.085   4.3325    2233.00  \n",
      "Kenya                        0.610  17.0000   50221.00  \n",
      "Lesotho                      0.030   3.1725    2475.00  \n",
      "Liberia                      0.020   4.0000    4702.00  \n",
      "Madagascar                   0.030   7.0000   25571.00  \n",
      "Malawi                       0.000   8.0000   17670.00  \n",
      "Mali                         1.000  21.5000   18512.00  \n",
      "Mauritania                   0.040   5.5875   51864.00  \n",
      "Mauritius                    0.080   3.6925    3713.00  \n",
      "Morocco                      2.000  34.0000   38348.00  \n",
      "Mozambique                   0.300  12.8625   28649.00  \n",
      "Namibia                      0.330   5.7000    2465.00  \n",
      "Niger                        0.000   4.0000   21602.00  \n",
      "Nigeria                      0.680  61.0000  190873.00  \n",
      "Rwanda                       0.000   5.0000   11981.00  \n",
      "Sao Tome and Principe        0.000   1.0000    2407.00  \n",
      "Senegal                      0.100   8.8875   15419.00  \n",
      "Seychelles                   0.035   0.4475     204.02  \n",
      "Sierra Leone                 0.120   6.0000    7488.00  \n",
      "South Africa                 3.000  55.5000   57010.00  \n",
      "Sudan                        0.100  19.3000   40813.00  \n",
      "Sudan (former)               0.000   0.0000       0.00  \n",
      "Togo                         0.220  10.0000    7698.00  \n",
      "Tunisia                      1.765  19.0000   11433.00  \n",
      "Uganda                       0.020  14.0000   41167.00  \n",
      "United Republic of Tanzania  1.000  27.0000   54660.00  \n",
      "Zambia                       0.000   6.0000   16854.00  \n",
      "Zimbabwe                     0.140   8.0000   14237.00  \n"
     ]
    }
   ],
   "source": [
    "bbp = df.groupby('Area')['Y2017']\n",
    "\n",
    "pop = bbp.describe()\n",
    "\n",
    "print(pop)\n",
    "\n",
    "\n",
    "\n"
   ]
  },
  {
   "cell_type": "code",
   "execution_count": 112,
   "metadata": {},
   "outputs": [
    {
     "name": "stdout",
     "output_type": "stream",
     "text": [
      "None\n"
     ]
    }
   ],
   "source": []
  },
  {
   "attachments": {},
   "cell_type": "markdown",
   "metadata": {},
   "source": [
    "Perform a groupby operation on ‘Element’.  What is the total number of the sum of Processing in 2017?"
   ]
  },
  {
   "cell_type": "code",
   "execution_count": 110,
   "metadata": {},
   "outputs": [
    {
     "name": "stdout",
     "output_type": "stream",
     "text": [
      "Element\n",
      "Processing    292836.0\n",
      "Name: Y2017, dtype: float64\n"
     ]
    }
   ],
   "source": [
    "tt =df.groupby('Element')\n",
    "\n",
    "tf = tt.get_group('Processing')\n",
    "\n",
    "tb = tf.groupby(['Element'])['Y2017'].sum()\n",
    "\n",
    "print(tb)\n"
   ]
  }
 ],
 "metadata": {
  "kernelspec": {
   "display_name": "Python 3",
   "language": "python",
   "name": "python3"
  },
  "language_info": {
   "codemirror_mode": {
    "name": "ipython",
    "version": 3
   },
   "file_extension": ".py",
   "mimetype": "text/x-python",
   "name": "python",
   "nbconvert_exporter": "python",
   "pygments_lexer": "ipython3",
   "version": "3.11.5"
  },
  "orig_nbformat": 4
 },
 "nbformat": 4,
 "nbformat_minor": 2
}
